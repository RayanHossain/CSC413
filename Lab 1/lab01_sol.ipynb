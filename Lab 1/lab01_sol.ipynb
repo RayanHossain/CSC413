{
  "cells": [
    {
      "cell_type": "markdown",
      "id": "561e4aa0",
      "metadata": {
        "id": "561e4aa0"
      },
      "source": [
        "# CSC413 Lab 1: Linear Models\n",
        "\n",
        "In this lab, we will review **linear models** for classification, which was discussed in depth in CSC311.\n",
        "We will use this as an opportunity to review key ideas, including the splitting of the dataset into\n",
        "train/validation/test sets, optimization methods using Stochastic Gradient Descent, and so on.\n",
        "This lab reviews Python libraries that you have used in CSC311, including `numpy`, `matplotlib` and others.\n",
        "\n",
        "The main aim of this lab is to revisit the PyTorch library. PyTorch provides\n",
        "automatic differentiation capabilities and other neural network tools.\n",
        "This means that **we do not need to compute gradients ourselves**! Instead,\n",
        "we rely on PyTorch to build the computation graph and compute gradients.\n",
        "PyTorch can do this because it knows how to compute gradients for simple\n",
        "operations like addition, multiplication, ReLU activation, and common\n",
        "functions like exponentials, logarithms, and so on. The neural networks\n",
        "we build require computation that are combinations of these simple operations.\n",
        "\n",
        "For now, we will we solve a multi-class classification problem with PyTorch.\n",
        "\n",
        "By the end of this lab, you will be able to:\n",
        "\n",
        "1. Implement and train a multi-class logistic regression model using PyTorch.\n",
        "2. Compute the accuracy metric for a machine learning model.\n",
        "3. Compute numerically, via numpy, the gradient of a linear model.\n",
        "4. Check that PyTorch correctly computes gradients for a linear model via automatic differentiation.\n",
        "5. Identify and explain the elements of the training loop in a PyTorch implementation.\n",
        "6. Identify optimization parameters and hyperparameters, and explain how hyperparameter choices impact training, underfitting and overfitting (i.e. bias/variance decomposition).\n",
        "\n",
        "Please work in groups of 1-2 during the lab, but submit your own solution individually.\n",
        "\n",
        "## Submission\n",
        "\n",
        "If you are working with a partner, start by creating a group on Markus. If you are working alone,\n",
        "click \"Working Alone\".\n",
        "\n",
        "Submit the ipynb file `lab01.ipynb` on Markus\n",
        "**containing all your solutions to the Graded Task**s.\n",
        "Your notebook file must contain your code **and outputs** where applicable,\n",
        "including printed lines and images.\n",
        "Your TA will not run your code for the purpose of grading.\n",
        "\n",
        "For this lab, you should submit the following:\n",
        "\n",
        "- Part 1. Your explanation of the purpose of the training and validation sets. (1 point)\n",
        "- Part 2. Your implementation of `accuracy_basic`. (2 point)\n",
        "- Part 2. Your implementation of `accuracy_vectorized`. (1 point)\n",
        "- Part 2. Your implementation of `accuracy`. (1 point)\n",
        "- Part 3. Your computation of `model_bias_grad`. (2 points)\n",
        "- Part 4. Your completion of `train_model`. (1 point)\n",
        "- Part 5. Your list of hyperparameters. (1 point)\n",
        "- Part 5. Your explanation of what happens if the learning rate is too large. (1 point)\n",
        "\n",
        "\n",
        "## Google Colab Setup\n",
        "\n",
        "We will use Google Colab to open the provided IPython Notebook (.ipynb) file.\n",
        "This tool allows us to write and execute Python code through our browser, without any environmental setup.\n",
        "\n",
        "Here are the steps to open .ipynb files on Google Colab.\n",
        "\n",
        "1. Download `lab01.ipynb`, available from the Quercus course website.\n",
        "2. Click on the following link to open Google Colab: https://colab.research.google.com/\n",
        "3. Click \"Upload\", then choose the file which has been downloaded in step 1.\n",
        "\n",
        "And that's it! Now we can start writing the codes, creating the new code or text cell, etc.\n",
        "\n",
        "Here are some basic functionalities and features that you might find useful.\n",
        "\n",
        "1. Running a cell \\\n",
        "    Click the run button on the left side of the code cell (looks like a “play” button with a triangle in a circle) \\\n",
        "    or \\\n",
        "    press SHIFT + ENTER.\n",
        "\n",
        "2. Installing libraries using Bash Commands \\\n",
        "    Although most of the commonly used libraries (e.g. NumPy, Pandas, Matplotlib) are pre-installed,\n",
        "    we may occasionally ask you to install new libraries or run other bash commands.\n",
        "    Bash commands can be run by prefixing instructions in a code cell with '!' in Google Colab (One exception: 'cd' command can be run by prefixing with '%'), e.g. `!pip install [package name]`\n",
        "\n",
        "3. Mounting Google Drive \\\n",
        "    You may optionally mount Google Drive.\n",
        "    Click the files button on the left pane, then click on 'mount drive' button (looks like a file icon with a google drive logo). \\\n",
        "    or \\\n",
        "    Run the following code snippet:\n",
        "    ```\n",
        "    from google.colab import drive\n",
        "    drive.mount('/content/drive')\n",
        "    ```\n",
        "    By mounting the drive, we can use any files or folders in our drive by using the path as follows:\n",
        "    ```\n",
        "    /content/drive/MyDrive/[folder name]\n",
        "    ```\n",
        "    For example, we can read the csv file uploaded in the drive using Pandas library as follows:\n",
        "    ```\n",
        "    pd.read_csv('/content/drive/MyDrive/myfolder/myfile.csv')\n",
        "    ```\n",
        "\n",
        "Now, we are ready to import the necessary packages and begin our lab."
      ]
    },
    {
      "cell_type": "code",
      "execution_count": 1,
      "id": "2997ed62",
      "metadata": {
        "id": "2997ed62"
      },
      "outputs": [],
      "source": [
        "import torch\n",
        "import matplotlib.pyplot as plt\n",
        "import numpy as np"
      ]
    },
    {
      "cell_type": "markdown",
      "id": "f6ecb330",
      "metadata": {
        "id": "f6ecb330"
      },
      "source": [
        "## Part 1. Data\n",
        "\n",
        "We will use the MNIST data set, which consists of hand-written digits. This dataset is available within\n",
        "the `torchvision.datasets` library. The dataset creators divided the MNIST imgages into a training and\n",
        "test set, so that different researchers report test accuracy on a consistent set of images.\n",
        "(Recall that the test set is to be set aside and **not** used during training or to make any model decisions,\n",
        "and that it is used to estimate *how well your models generalize* to new data that it has never seen before.)"
      ]
    },
    {
      "cell_type": "code",
      "execution_count": 2,
      "id": "112f0ac6",
      "metadata": {
        "colab": {
          "base_uri": "https://localhost:8080/"
        },
        "id": "112f0ac6",
        "outputId": "4a6dc7b5-f804-41b4-f6bb-b411e3c3c6b5"
      },
      "outputs": [
        {
          "output_type": "stream",
          "name": "stdout",
          "text": [
            "Downloading http://yann.lecun.com/exdb/mnist/train-images-idx3-ubyte.gz\n",
            "Downloading http://yann.lecun.com/exdb/mnist/train-images-idx3-ubyte.gz to ./MNIST/raw/train-images-idx3-ubyte.gz\n"
          ]
        },
        {
          "output_type": "stream",
          "name": "stderr",
          "text": [
            "100%|██████████| 9912422/9912422 [00:00<00:00, 75004304.88it/s]\n"
          ]
        },
        {
          "output_type": "stream",
          "name": "stdout",
          "text": [
            "Extracting ./MNIST/raw/train-images-idx3-ubyte.gz to ./MNIST/raw\n",
            "\n",
            "Downloading http://yann.lecun.com/exdb/mnist/train-labels-idx1-ubyte.gz\n",
            "Downloading http://yann.lecun.com/exdb/mnist/train-labels-idx1-ubyte.gz to ./MNIST/raw/train-labels-idx1-ubyte.gz\n"
          ]
        },
        {
          "output_type": "stream",
          "name": "stderr",
          "text": [
            "100%|██████████| 28881/28881 [00:00<00:00, 8219276.28it/s]\n"
          ]
        },
        {
          "output_type": "stream",
          "name": "stdout",
          "text": [
            "Extracting ./MNIST/raw/train-labels-idx1-ubyte.gz to ./MNIST/raw\n",
            "\n",
            "Downloading http://yann.lecun.com/exdb/mnist/t10k-images-idx3-ubyte.gz\n",
            "Downloading http://yann.lecun.com/exdb/mnist/t10k-images-idx3-ubyte.gz to ./MNIST/raw/t10k-images-idx3-ubyte.gz\n"
          ]
        },
        {
          "output_type": "stream",
          "name": "stderr",
          "text": [
            "100%|██████████| 1648877/1648877 [00:00<00:00, 49635346.70it/s]\n"
          ]
        },
        {
          "output_type": "stream",
          "name": "stdout",
          "text": [
            "Extracting ./MNIST/raw/t10k-images-idx3-ubyte.gz to ./MNIST/raw\n",
            "\n",
            "Downloading http://yann.lecun.com/exdb/mnist/t10k-labels-idx1-ubyte.gz\n",
            "Downloading http://yann.lecun.com/exdb/mnist/t10k-labels-idx1-ubyte.gz to ./MNIST/raw/t10k-labels-idx1-ubyte.gz\n"
          ]
        },
        {
          "output_type": "stream",
          "name": "stderr",
          "text": [
            "100%|██████████| 4542/4542 [00:00<00:00, 6316488.32it/s]"
          ]
        },
        {
          "output_type": "stream",
          "name": "stdout",
          "text": [
            "Extracting ./MNIST/raw/t10k-labels-idx1-ubyte.gz to ./MNIST/raw\n",
            "\n"
          ]
        },
        {
          "output_type": "stream",
          "name": "stderr",
          "text": [
            "\n"
          ]
        }
      ],
      "source": [
        "from torchvision.datasets import MNIST\n",
        "\n",
        "mnist_train = MNIST(root=\".\",      # where on the disk to store the data\n",
        "                    download=True, # download the data if it does not already exist\n",
        "                    train=True)    # use the training set (rather than the test set)"
      ]
    },
    {
      "cell_type": "markdown",
      "id": "aa2f989b",
      "metadata": {
        "id": "aa2f989b"
      },
      "source": [
        "**Task:** If different practitioners are exploring machine learning models for the same task and data set,\n",
        "why is it important that practitioners report their test performance (e.g., accuracy)\n",
        "on the same test set?"
      ]
    },
    {
      "cell_type": "code",
      "execution_count": null,
      "id": "a50df611",
      "metadata": {
        "id": "a50df611"
      },
      "outputs": [],
      "source": [
        "# TODO: So that thre is a \"control\" set on which everyone is testing, making the comparisons for test performance fair."
      ]
    },
    {
      "cell_type": "markdown",
      "id": "d18e4ec1",
      "metadata": {
        "id": "d18e4ec1"
      },
      "source": [
        "It is always a good idea to visually inspect our data before working with it.\n",
        "First, let's take a look at the first element of the training set:"
      ]
    },
    {
      "cell_type": "code",
      "execution_count": 3,
      "id": "1c9d82b4",
      "metadata": {
        "colab": {
          "base_uri": "https://localhost:8080/"
        },
        "id": "1c9d82b4",
        "outputId": "210c5e0c-947a-401e-acd2-c3131b37c0a8"
      },
      "outputs": [
        {
          "output_type": "stream",
          "name": "stdout",
          "text": [
            "(<PIL.Image.Image image mode=L size=28x28 at 0x7D19B8B54DC0>, 5)\n"
          ]
        }
      ],
      "source": [
        "print(mnist_train[0]) # a tuple consisting of the image, and the label (5)"
      ]
    },
    {
      "cell_type": "markdown",
      "id": "362e5965",
      "metadata": {
        "id": "362e5965"
      },
      "source": [
        "The image can be displayed on Google Colab using matplotlib:"
      ]
    },
    {
      "cell_type": "markdown",
      "source": [],
      "metadata": {
        "id": "Y6dCpunsQ8W9"
      },
      "id": "Y6dCpunsQ8W9"
    },
    {
      "cell_type": "code",
      "execution_count": null,
      "id": "f11d9208",
      "metadata": {
        "id": "f11d9208"
      },
      "outputs": [],
      "source": [
        "plt.imshow(mnist_train[0][0], cmap='gray') # display the image"
      ]
    },
    {
      "cell_type": "markdown",
      "id": "55f679d5",
      "metadata": {
        "id": "55f679d5"
      },
      "source": [
        "It is important to note that images are represented using numbers on your machine.\n",
        "Converting this image into a numpy array shows a representation of the image using\n",
        "28x28 numbers, each representing a pixel value."
      ]
    },
    {
      "cell_type": "code",
      "execution_count": null,
      "id": "83107664",
      "metadata": {
        "id": "83107664"
      },
      "outputs": [],
      "source": [
        "print(np.array(mnist_train[0][0]))"
      ]
    },
    {
      "cell_type": "markdown",
      "id": "afbe4d5f",
      "metadata": {
        "id": "afbe4d5f"
      },
      "source": [
        "**Task:** What does the numerical value 0 (smallest possible value) mean in the image?\n",
        "What about the largest possible value, 255?"
      ]
    },
    {
      "cell_type": "code",
      "execution_count": null,
      "id": "101c8b05",
      "metadata": {
        "id": "101c8b05"
      },
      "outputs": [],
      "source": [
        "# TODO: These values are representing the pixel intensity at those points. The number 0 represents black, and the number 255 represents White."
      ]
    },
    {
      "cell_type": "markdown",
      "id": "32b8ce96",
      "metadata": {
        "id": "32b8ce96"
      },
      "source": [
        "For our purposes, we will only use the first 5000 elements of the training set.\n",
        "This is to make training faster.\n",
        "\n",
        "PyTorch also makes it easy to apply pre-processing transformations to the data,\n",
        "for example to normalize the data prior to using for training.\n",
        "We will use the standard preprocessing functions to *transform the images into tensors* for PyTorch to be able to use.\n",
        "This transformation also changes the values to be floating-point numbers between 0 and 1.\n",
        "Performing this transformation to PyTorch tensors now makes it easier to use PyTorch functionalities to\n",
        "help us create minibatches with this data."
      ]
    },
    {
      "cell_type": "code",
      "execution_count": null,
      "id": "257f5880",
      "metadata": {
        "id": "257f5880"
      },
      "outputs": [],
      "source": [
        "import torchvision.transforms as transforms\n",
        "\n",
        "mnist_data = MNIST(root=\".\",      # where on the disk to store the data\n",
        "                   download=True, # download the data if it does not already exist\n",
        "                   train=True,    # use the canonical training set (rather than the test set)\n",
        "                   transform=transforms.ToTensor()) # transforms the images into PyTorch tensors\n",
        "mnist_data = list(mnist_data)[:5000]\n",
        "\n",
        "print(mnist_data[0]) # a tuple consisting of a PyTorch tensor of shape (1, 28, 28) and an integer target label"
      ]
    },
    {
      "cell_type": "markdown",
      "id": "e0f0519f",
      "metadata": {
        "id": "e0f0519f"
      },
      "source": [
        "We will split the data set into 3000 for training, 1000 for validation, and 1000 for test:"
      ]
    },
    {
      "cell_type": "code",
      "execution_count": 7,
      "id": "e2b676b3",
      "metadata": {
        "id": "e2b676b3"
      },
      "outputs": [],
      "source": [
        "train_data = mnist_data[:3000]\n",
        "val_data   = mnist_data[3000:4000]\n",
        "test_data  = mnist_data[4000:]"
      ]
    },
    {
      "cell_type": "markdown",
      "id": "85088fb7",
      "metadata": {
        "id": "85088fb7"
      },
      "source": [
        "**Graded Task**: We described, above, that the purpose of the **test set** is to estimate how well\n",
        "our models would generalize to new data that it has never seen before.\n",
        "What are the purposes of the training and validation sets?"
      ]
    },
    {
      "cell_type": "code",
      "execution_count": null,
      "id": "f8daea29",
      "metadata": {
        "id": "f8daea29"
      },
      "outputs": [],
      "source": [
        "# TODO: The training and validation sets will act as the data that will be used to train the model. First the training data will be used\n",
        "# to train the model parametres. Parametres here refer to the variables that are internal to the model. The validation set is then used\n",
        "# to ensure that the model isn't overfit to the training data."
      ]
    },
    {
      "cell_type": "markdown",
      "id": "c544a833",
      "metadata": {
        "id": "c544a833"
      },
      "source": [
        "## Part 2. A Linear Model in PyTorch\n",
        "\n",
        "You may recall from CSC311 that in machine learning, we often describe a model by first describing\n",
        "how to make predictions with a model (e.g., multi-class classification), and **then** describe\n",
        "how to find appropriate weights (e.g., an optimization method like gradient descent).\n",
        "We will follow that process here.\n",
        "\n",
        "Recall that, mathematically, the multi-class classification model can be written as follows:\n",
        "\n",
        "$${\\bf y} = \\textrm{softmax}({\\bf W} {\\bf x} + {\\bf b})$$\n",
        "\n",
        "Where the ${\\bf x}$ vector represents the input (i.e., the vector representation of the MNIST image),\n",
        "and the ${\\bf y}$ vector contains the predicted probably of the image being in each class (i.e.,\n",
        "predicted probability of the image being of each digit 0-9).\n",
        "\n",
        "**Task**: In the MNIST image classification task, what are the shapes of the quantities\n",
        "${\\bf x}$, ${\\bf W}$, ${\\bf b}$ and ${\\bf y}$?"
      ]
    },
    {
      "cell_type": "code",
      "execution_count": null,
      "id": "139e72f2",
      "metadata": {
        "id": "139e72f2"
      },
      "outputs": [],
      "source": [
        "# TODO: y = [10, 1]. b = [10, 1], x = [784, 1], W = [10, 784]."
      ]
    },
    {
      "cell_type": "markdown",
      "id": "c8758b01",
      "metadata": {
        "id": "c8758b01"
      },
      "source": [
        "The matrix ${\\bf W}$ and ${\\bf b}$ are the parameters of the model. The matrix  ${\\bf W}$ is\n",
        "sometimes called the *weight matrix* and the vector ${\\bf b}$ the *bias vector*, but these parameters\n",
        "taken together are often referred to collectively as the **weights**.\n",
        "\"Good\" values of the parameters ${\\bf W}$ and ${\\bf b}$ are those that would produce values of\n",
        "the vector ${\\bf y}$ that more accurately match the actual target label. We will need to discuss\n",
        "what \"good\" means and how to measure \"good\"ness and optimize it. For now, let's begin by applying\n",
        "and analyzing a \"bad\" model: a model where the parameters ${\\bf W}$ and ${\\bf b}$ are chosen\n",
        "randomly.\n",
        "\n",
        "\n",
        "Notice that there are two parts to the computation $\\textrm{softmax}({\\bf W} {\\bf x} + {\\bf b})$:\n",
        "there is a *linear transformation* on ${\\bf X}$, and then there is a softmax operation.\n",
        "PyTorch models these two components separately.\n",
        "\n",
        "The **linear transformation** is modeled as a Python class in PyTorch.\n",
        "Since the parameters ${\\bf W}$ and ${\\bf b}$ are parameters of the linear transformation\n",
        "portion of the computation, the weights and biases are class attributes.\n",
        "The output of the linear transformation step is typically denoted using the symbol ${\\bf z}$,\n",
        "and is called the **logit** (or unnormalized logits)."
      ]
    },
    {
      "cell_type": "code",
      "execution_count": 8,
      "id": "0376b376",
      "metadata": {
        "colab": {
          "base_uri": "https://localhost:8080/"
        },
        "id": "0376b376",
        "outputId": "3b236f6c-fa90-4380-c0fa-389e99cc67b7"
      },
      "outputs": [
        {
          "output_type": "stream",
          "name": "stdout",
          "text": [
            "torch.Size([10, 784])\n",
            "torch.Size([10])\n"
          ]
        }
      ],
      "source": [
        "import torch.nn as nn\n",
        "\n",
        "model = nn.Linear(in_features=784,\n",
        "                  out_features=10)\n",
        "\n",
        "print(model.weight.size()) # the weight parameter, initialized to random values\n",
        "print(model.bias.size())   # the bias parameter, initialized to random values"
      ]
    },
    {
      "cell_type": "markdown",
      "id": "41ee800b",
      "metadata": {
        "id": "41ee800b"
      },
      "source": [
        "This `model` object can be called like a function to perform the computation ${\\bf W}{\\bf x} + {\\bf b}$:"
      ]
    },
    {
      "cell_type": "code",
      "execution_count": 9,
      "id": "ee8d2c84",
      "metadata": {
        "colab": {
          "base_uri": "https://localhost:8080/"
        },
        "id": "ee8d2c84",
        "outputId": "fb72f396-3915-48a0-d239-5c3eaace9c3e"
      },
      "outputs": [
        {
          "output_type": "stream",
          "name": "stdout",
          "text": [
            "tensor([[ 0.1516, -0.0065,  0.0098,  0.0848, -0.3724,  0.0784,  0.0755,  0.0685,\n",
            "         -0.2918, -0.3236]], grad_fn=<AddmmBackward0>)\n"
          ]
        }
      ],
      "source": [
        "# reshape the input image into the shape [1, 784]\n",
        "# PyTorch always expects inputs of shape [batch_size, num_features]\n",
        "x = train_data[0][0].reshape(1, 784)\n",
        "\n",
        "# Computes z = Wx + b, also called the *logit*\n",
        "z = model(x)\n",
        "print(z)"
      ]
    },
    {
      "cell_type": "markdown",
      "id": "73894f67",
      "metadata": {
        "id": "73894f67"
      },
      "source": [
        "The **softmax operation** has no trainable parameters (i.e., no numbers that we tune that would effect\n",
        "the predictions of our model).\n",
        "Torch has a function `torch.softmax` that performs this operation, which\n",
        "normalizes the prediction so that the prediction represents a probability distribution.\n",
        "The `dim` parameter to the function tells PyTorch which dimension represent the different label classes\n",
        "(as opposed to, say, the dimension that represents different images in a batch)."
      ]
    },
    {
      "cell_type": "code",
      "execution_count": 10,
      "id": "c118a748",
      "metadata": {
        "colab": {
          "base_uri": "https://localhost:8080/"
        },
        "id": "c118a748",
        "outputId": "315e15a0-852f-4d02-e398-ea6922bd1da2"
      },
      "outputs": [
        {
          "output_type": "stream",
          "name": "stdout",
          "text": [
            "tensor([[0.1206, 0.1030, 0.1047, 0.1128, 0.0714, 0.1121, 0.1118, 0.1110, 0.0774,\n",
            "         0.0750]], grad_fn=<SoftmaxBackward0>)\n"
          ]
        }
      ],
      "source": [
        "y = torch.softmax(z, dim=1)\n",
        "print(y) # notice that this represents a probability distribution!"
      ]
    },
    {
      "cell_type": "markdown",
      "id": "98e71db6",
      "metadata": {
        "id": "98e71db6"
      },
      "source": [
        "If we are looking for a discrete/point prediction rather than a probability distribution,\n",
        "we will typically choose the label that the model believes to be **most probable**:"
      ]
    },
    {
      "cell_type": "code",
      "execution_count": 11,
      "id": "43bb6b1a",
      "metadata": {
        "colab": {
          "base_uri": "https://localhost:8080/"
        },
        "id": "43bb6b1a",
        "outputId": "dbb19726-2edf-46c3-a4e9-982b6a4684cd"
      },
      "outputs": [
        {
          "output_type": "stream",
          "name": "stdout",
          "text": [
            "tensor([0])\n"
          ]
        }
      ],
      "source": [
        "pred = torch.argmax(y, axis=1)\n",
        "print(pred) # a prediction of which class/digit the image belong to"
      ]
    },
    {
      "cell_type": "markdown",
      "id": "218c0266",
      "metadata": {
        "id": "218c0266"
      },
      "source": [
        "Note that if all we wanted was a discrete prediction, we need not compute the softmax!\n",
        "(Why is that? How can we prove this property mathematically, using the definition of\n",
        "the softmax operation?)"
      ]
    },
    {
      "cell_type": "code",
      "execution_count": 12,
      "id": "c487df46",
      "metadata": {
        "colab": {
          "base_uri": "https://localhost:8080/"
        },
        "id": "c487df46",
        "outputId": "0d17b319-fcc7-442a-a833-fe3635778cb6"
      },
      "outputs": [
        {
          "output_type": "stream",
          "name": "stdout",
          "text": [
            "tensor([0])\n"
          ]
        }
      ],
      "source": [
        "pred = torch.argmax(z, axis=1)\n",
        "print(pred)"
      ]
    },
    {
      "cell_type": "markdown",
      "id": "e141e496",
      "metadata": {
        "id": "e141e496"
      },
      "source": [
        "**Graded Task**: Complete the function below, which computes the **accuracy** of a PyTorch model\n",
        "over a dataset. The accuracy metric is the proportion of predictions made that is correct,\n",
        "or:\n",
        "\n",
        "$$\\frac{\\textrm{the number of correct predictions}}{\\textrm{total number of predictions made}}$$"
      ]
    },
    {
      "cell_type": "code",
      "execution_count": 13,
      "id": "89778660",
      "metadata": {
        "id": "89778660",
        "colab": {
          "base_uri": "https://localhost:8080/"
        },
        "outputId": "6b1a1063-95c9-4fa9-9299-573fc800ecde"
      },
      "outputs": [
        {
          "output_type": "stream",
          "name": "stdout",
          "text": [
            "Accuracy over the training set:\n",
            "0.09133333333333334\n"
          ]
        }
      ],
      "source": [
        "def accuracy_basic(model, dataset):\n",
        "    \"\"\"\n",
        "    Compute the accuracy of `model` over the `dataset`.\n",
        "    We will take the **most probable class**\n",
        "    as the class predicted by the model.\n",
        "\n",
        "    Parameters:\n",
        "        `model` - A torch.nn model. We will only be passing `nn.Linear` models.\n",
        "                  However, to make your code more generally useful, do not access\n",
        "                  `model.weight` and `model.bias` parameters directly. These\n",
        "                  class attributes may not exist for other kinds of models.\n",
        "        `dataset` - A list of 2-tuples of the form (x, t), where `x` is a PyTorch\n",
        "                  tensor of shape [1, 28, 28] representing an MNIST image,\n",
        "                  and `t` is the corresponding target label\n",
        "\n",
        "    Returns: a floating-point value between 0 and 1.\n",
        "    \"\"\"\n",
        "    total = 0      # count the total number of predictions made\n",
        "    correct = 0    # count the number of correct predictions made\n",
        "    for img, t in dataset:\n",
        "        x = img.reshape(1, 784) # TODO - what should the input be?\n",
        "        z = model(x) # TODO - how can we compute z = Wx + b using `model`?\n",
        "        pred = torch.argmax(z, axis=1) # TODO - how can we obtain a point prediction?\n",
        "        if t == pred:\n",
        "            correct += 1\n",
        "        total += 1\n",
        "\n",
        "    return correct / total\n",
        "\n",
        "\n",
        "print(\"Accuracy over the training set:\")\n",
        "print(accuracy_basic(model, train_data))"
      ]
    },
    {
      "cell_type": "markdown",
      "id": "b6a6d84e",
      "metadata": {
        "id": "b6a6d84e"
      },
      "source": [
        "**Task**: Explain why we would expect the training accuracy above to be poor."
      ]
    },
    {
      "cell_type": "code",
      "execution_count": null,
      "id": "07f8bd3b",
      "metadata": {
        "id": "07f8bd3b"
      },
      "outputs": [],
      "source": [
        "# TODO: This could be due to many different reasons. I think for this example its due to the initialisation of the weights."
      ]
    },
    {
      "cell_type": "markdown",
      "id": "67ead752",
      "metadata": {
        "id": "67ead752"
      },
      "source": [
        "One other nice thing about our `nn.Linear` model is that PyTorch **vectorizes**\n",
        "computations for us: we can make predictions for *many* images at the same time.\n",
        "Here is a rudimentary example where we make predictions for the first three\n",
        "images of our training set."
      ]
    },
    {
      "cell_type": "code",
      "execution_count": 14,
      "id": "f86d0304",
      "metadata": {
        "colab": {
          "base_uri": "https://localhost:8080/"
        },
        "id": "f86d0304",
        "outputId": "d091fdcc-1cf3-44dd-d644-6cfc0a8b61ca"
      },
      "outputs": [
        {
          "output_type": "stream",
          "name": "stdout",
          "text": [
            "torch.Size([3, 784])\n"
          ]
        }
      ],
      "source": [
        "x1 = train_data[0][0].reshape(1, 784)\n",
        "x2 = train_data[1][0].reshape(1, 784)\n",
        "x3 = train_data[2][0].reshape(1, 784)\n",
        "\n",
        "X = torch.cat([x1, x2, x3]).reshape(-1, 784) # note the -1 value here, explained below\n",
        "print(X.shape) # Pytorch figures out that the shape of this tensor needs to be [3, 784]"
      ]
    },
    {
      "cell_type": "markdown",
      "id": "eaceffd6",
      "metadata": {
        "id": "eaceffd6"
      },
      "source": [
        "The above code uses a features of PyTorch's `reshape()` method that allows you to\n",
        "use the size `-1` as a placeholder value and let PyTorch figure out what the correct\n",
        "size should be.\n",
        "\n",
        "Now, we can make predictions for all 3 images simultaneously"
      ]
    },
    {
      "cell_type": "code",
      "execution_count": 15,
      "id": "d9274378",
      "metadata": {
        "colab": {
          "base_uri": "https://localhost:8080/"
        },
        "id": "d9274378",
        "outputId": "06fbd85f-5cbf-4c99-95c1-3fd05e33aa0f"
      },
      "outputs": [
        {
          "output_type": "stream",
          "name": "stdout",
          "text": [
            "tensor([0, 0, 0])\n"
          ]
        }
      ],
      "source": [
        "z = model(X)\n",
        "y = torch.argmax(torch.softmax(z, dim=1), dim =1 )\n",
        "print(y)"
      ]
    },
    {
      "cell_type": "markdown",
      "id": "7c273455",
      "metadata": {
        "id": "7c273455"
      },
      "source": [
        "**Task** Complete the function `accuracy_vectorized` that outputs the same\n",
        "result as `accuracy_basic`, but uses vectorization to\n",
        "compute predictions for **all** inputs in the `dataset` simultaneously."
      ]
    },
    {
      "cell_type": "code",
      "execution_count": 16,
      "id": "2c0bd53d",
      "metadata": {
        "id": "2c0bd53d"
      },
      "outputs": [],
      "source": [
        "def accuracy_vectorized(model, dataset):\n",
        "    \"\"\"\n",
        "    Same signature as the `accuracy_basic()` function, but the call to model() is vectorized\n",
        "    \"\"\"\n",
        "    X = torch.concat([x for x, t in dataset])\n",
        "    t = torch.Tensor([t for x, t in dataset])\n",
        "    z = model(X.reshape(-1, 784)) # TODO: use a single call to model() to compute the prediction for all inputs\n",
        "    pred = torch.argmax(torch.softmax(z, dim=1), dim=1) # TODO: `pred` should have the same shape as `t`\n",
        "    correct = int(torch.sum(t == pred)) # count the number of correct predictions\n",
        "    total = t.shape[0]                  # count the total number of predictions made\n",
        "    return correct / total"
      ]
    },
    {
      "cell_type": "markdown",
      "id": "289ed2ea",
      "metadata": {
        "id": "289ed2ea"
      },
      "source": [
        "**Task**: Compare the runtime of `accuracy_basic` and `accuracy_vectorized` by running the two cells\n",
        "below. The line `%%time` prints the amount of time that Colab takes to run the code in the cell.\n",
        "The function call is repeated 100 times so that we can more clearly see the difference in\n",
        "runtime. Using what you learned from CSC311, explain why `accuracy_vectorized` is faster."
      ]
    },
    {
      "cell_type": "code",
      "execution_count": 17,
      "id": "01fcebf3",
      "metadata": {
        "id": "01fcebf3",
        "colab": {
          "base_uri": "https://localhost:8080/"
        },
        "outputId": "36936e60-fbf6-4f5b-884a-3b9475d2d0f1"
      },
      "outputs": [
        {
          "output_type": "stream",
          "name": "stdout",
          "text": [
            "CPU times: user 13.4 s, sys: 38.8 ms, total: 13.5 s\n",
            "Wall time: 13.6 s\n"
          ]
        }
      ],
      "source": [
        "%%time\n",
        "for i in range(100):\n",
        "    accuracy_basic(model, train_data)"
      ]
    },
    {
      "cell_type": "code",
      "execution_count": 18,
      "id": "ad8d2acc",
      "metadata": {
        "colab": {
          "base_uri": "https://localhost:8080/"
        },
        "id": "ad8d2acc",
        "outputId": "e84767a8-610f-4478-ff85-a78f7a13fae4"
      },
      "outputs": [
        {
          "output_type": "stream",
          "name": "stdout",
          "text": [
            "CPU times: user 830 ms, sys: 4.1 ms, total: 834 ms\n",
            "Wall time: 838 ms\n"
          ]
        }
      ],
      "source": [
        "%%time\n",
        "for i in range(100):\n",
        "    accuracy_vectorized(model, train_data)"
      ]
    },
    {
      "cell_type": "code",
      "execution_count": null,
      "id": "4abeb7ee",
      "metadata": {
        "id": "4abeb7ee"
      },
      "outputs": [],
      "source": [
        "# TODO: Multiple predictions are happening at the same time. Therefore more operations can be completed in less time (Parallelisation)."
      ]
    },
    {
      "cell_type": "markdown",
      "id": "5ee40246",
      "metadata": {
        "id": "5ee40246"
      },
      "source": [
        "If our data set is large, feeding all inputs into the model at the same time may result\n",
        "in an out of memory error.\n",
        "Thus, we may find PyTorch's `DataLoader` useful. This class takes our data set and the\n",
        "desired batch size, and splits the data into mini-batches of that size. We can use\n",
        "a loop to iterate over the minibatches:"
      ]
    },
    {
      "cell_type": "code",
      "execution_count": 19,
      "id": "e68219de",
      "metadata": {
        "id": "e68219de",
        "colab": {
          "base_uri": "https://localhost:8080/"
        },
        "outputId": "6e7a2ed9-f100-4178-8acf-b98dcd58e7c7"
      },
      "outputs": [
        {
          "output_type": "stream",
          "name": "stdout",
          "text": [
            "torch.Size([100, 1, 28, 28])\n",
            "torch.Size([100])\n"
          ]
        }
      ],
      "source": [
        "train_loader = torch.utils.data.DataLoader(train_data, batch_size=100)\n",
        "for X, t in train_loader:\n",
        "    print(X.shape)\n",
        "    print(t.shape)\n",
        "    break"
      ]
    },
    {
      "cell_type": "markdown",
      "id": "69a47a6e",
      "metadata": {
        "id": "69a47a6e"
      },
      "source": [
        "**Task**: Complete the definition of the `accuracy` function below:"
      ]
    },
    {
      "cell_type": "code",
      "execution_count": 20,
      "id": "053e6ef3",
      "metadata": {
        "id": "053e6ef3",
        "colab": {
          "base_uri": "https://localhost:8080/"
        },
        "outputId": "054e32ca-fa75-4a40-c7a1-4ae91bc6c74b"
      },
      "outputs": [
        {
          "output_type": "execute_result",
          "data": {
            "text/plain": [
              "tensor(0.0700)"
            ]
          },
          "metadata": {},
          "execution_count": 20
        }
      ],
      "source": [
        "def accuracy(model, dataset):\n",
        "    \"\"\"\n",
        "    Same signature as the `accuracy_basic()` function, but we will use a DataLoader and process\n",
        "    100 images at a time\n",
        "    \"\"\"\n",
        "    correct, total = 0, 0\n",
        "    loader = torch.utils.data.DataLoader(dataset, batch_size=100)\n",
        "    for X, t in loader:\n",
        "        z = model(X.reshape(-1, 784)) # TODO: use a single call to `model()` here as before\n",
        "        pred = torch.argmax(torch.softmax(z, dim=1), dim=1) # TODO: `pred` should have the same shape as `t`\n",
        "        correct = (pred == t).sum()# TODO: update `correct` and `total'\n",
        "        total = t.numel() # Could have been hardcoded however it is not always the case that it will be 100 items long..\n",
        "    return correct / total\n",
        "\n",
        "accuracy(model, train_data)"
      ]
    },
    {
      "cell_type": "markdown",
      "id": "8da6d245",
      "metadata": {
        "id": "8da6d245"
      },
      "source": [
        "## Part 3. Cross Entropy Loss and Automatic Gradient Computation\n",
        "\n",
        "Now that we understand how a linear model makes predictions, we can explore how to modify its\n",
        "parameters to produce a model that makes \"better\" predictions. To do this, we will define\n",
        "a measure of \"good\"ness (or rather, \"bad\"ness) of a model that is **differentiable with respect\n",
        "to the parameters**. Differentiability is important, because it allows us to compute derivatives\n",
        "with respect to these parameters, which tells us how to tune the parameters to decrease \"bad\"ness.\n",
        "\n",
        "This \"badness\" metric is called a **loss function**. A loss function compares the model prediction\n",
        "against the ground-truth target and produces a value representing how different the prediction is\n",
        "from the target.  Like in CSC311, we will use the **Cross-Entropy Loss** for multi-class classification.\n",
        "In statistics courses you may learn about the theoretical reasons why the cross-entropy loss is\n",
        "appropriate for the multi-class classification task.\n",
        "\n",
        "$$\\mathcal{L}(y, t) = - \\sum_{k=1}^K t_k \\log(y_k) = - \\mathbf{t}^\\top \\log(\\mathbf{y})$$\n",
        "\n",
        "You can read more about PyTorch's implementation of the Cross-entropy loss here:\n",
        "[https://pytorch.org/docs/stable/generated/torch.nn.CrossEntropyLoss.html](https://pytorch.org/docs/stable/generated/torch.nn.CrossEntropyLoss.html)\n",
        "One key thing to note is that the cross entropy loss takes as input the **unnormalized logits** (the z's) and *not*\n",
        "the post-softmax, normalized probabilities (the y's)."
      ]
    },
    {
      "cell_type": "code",
      "execution_count": 21,
      "id": "0715ca74",
      "metadata": {
        "id": "0715ca74"
      },
      "outputs": [],
      "source": [
        "criterion = nn.CrossEntropyLoss()"
      ]
    },
    {
      "cell_type": "markdown",
      "id": "9a01a963",
      "metadata": {
        "id": "9a01a963"
      },
      "source": [
        "Before we go further, let's get some more intuition about the cross-entropy loss.\n",
        "We first demonstrate the cross entropy loss in action by computing hte \"badness\""
      ]
    },
    {
      "cell_type": "code",
      "execution_count": 49,
      "id": "32b61e9f",
      "metadata": {
        "id": "32b61e9f",
        "colab": {
          "base_uri": "https://localhost:8080/"
        },
        "outputId": "6edceb9c-7087-42fb-a8ff-c58a9fd9767a"
      },
      "outputs": [
        {
          "output_type": "stream",
          "name": "stdout",
          "text": [
            "tensor(2.1882, grad_fn=<NllLossBackward0>)\n"
          ]
        }
      ],
      "source": [
        "x = train_data[0][0].reshape(1, 784)        # input\n",
        "t = torch.Tensor([train_data[0][1]]).long() # target label, represented as an integer index\n",
        "z = model(x.reshape(-1, 784))               # prediction logit\n",
        "\n",
        "loss = criterion(z, t)\n",
        "\n",
        "print(loss)"
      ]
    },
    {
      "cell_type": "markdown",
      "id": "ad29a71f",
      "metadata": {
        "id": "ad29a71f"
      },
      "source": [
        "**Graded Task**: Consider the code below.  What value of `label` would produce the lowest cross-entropy loss?\n",
        "Why? To answer this question, start by exploring the arguments passed to the call to `criterion`, and\n",
        "form an understanding of what those arugments represent. (Why are there 3 possible values of `label`?\n",
        "What do the 3 floating-point values in the first argument to `criterion` represent?)"
      ]
    },
    {
      "cell_type": "code",
      "execution_count": 41,
      "id": "3fe30e12",
      "metadata": {
        "id": "3fe30e12",
        "colab": {
          "base_uri": "https://localhost:8080/"
        },
        "outputId": "8a60fdc0-44f5-480b-83e3-173ccf7ab6fa"
      },
      "outputs": [
        {
          "output_type": "stream",
          "name": "stdout",
          "text": [
            "tensor(0.4386)\n"
          ]
        }
      ],
      "source": [
        "label = 2 # 0, 1, or 2?\n",
        "\n",
        "loss = criterion(torch.Tensor([[1.5, 2.2, 3.2]]),\n",
        "                 torch.Tensor([label]).long())\n",
        "print(loss)"
      ]
    },
    {
      "cell_type": "code",
      "execution_count": 29,
      "id": "d23bf1a6",
      "metadata": {
        "id": "d23bf1a6"
      },
      "outputs": [],
      "source": [
        "# TODO: The label options here are being compared to the predictions made by the model. The value that creates\n",
        "# the lowest entropy loss is 2. The reason for this is because perhaps the number 2 upside down looks quite similar\n",
        "# to the number 5. As a result it would give us the smallest error. This is due to the one hot enoding of the true\n",
        "# distribution. as a result the equation boils down to the -log(prediction). The log function penalises smaller values\n",
        "# (less confident predictions). In the example above the probability of it being 2 was the largest."
      ]
    },
    {
      "cell_type": "markdown",
      "id": "e8d8a813",
      "metadata": {
        "id": "e8d8a813"
      },
      "source": [
        "Now that we have an understanding of the cross-entropy loss, we can begin to understand how PyTorch computes\n",
        "gradients.\n",
        "Notice that when we print the variable `loss` above,\n",
        "the value printed is not only a numerical value, but also has other information attached.\n",
        "These information help PyTorch compute gradients, and these gradients can be propagated backwards\n",
        "using the `loss.backward()` method.\n",
        "\n",
        "Under the hood, PyTorch *performs backpropagation*, which we discussed in CSC311 and will review\n",
        "again in the coming weeks. After `loss.backward()` is computed, tensors like\n",
        "`model.bias` and `model.weights` will have gradients."
      ]
    },
    {
      "cell_type": "code",
      "execution_count": 87,
      "id": "1912c2d2",
      "metadata": {
        "id": "1912c2d2",
        "colab": {
          "base_uri": "https://localhost:8080/"
        },
        "outputId": "0c045edd-ca7b-4fc1-c922-36f1cf288b1a"
      },
      "outputs": [
        {
          "output_type": "stream",
          "name": "stdout",
          "text": [
            "tensor(2.5636, grad_fn=<NllLossBackward0>)\n"
          ]
        }
      ],
      "source": [
        "# recreate the model to clean up some hidden variables\n",
        "model = nn.Linear(in_features=784, out_features=10)\n",
        "\n",
        "x = train_data[0][0].reshape(1, 784)        # input\n",
        "t = torch.Tensor([train_data[0][1]]).long() # target label, represented as an integer index\n",
        "z = model(x.reshape(-1, 784))               # prediction logit\n",
        "\n",
        "loss = criterion(z, t)\n",
        "print(loss)\n",
        "\n",
        "loss.backward() # propagate the gradients with respect to the loss"
      ]
    },
    {
      "cell_type": "code",
      "execution_count": 88,
      "id": "86efe5a2",
      "metadata": {
        "id": "86efe5a2",
        "colab": {
          "base_uri": "https://localhost:8080/"
        },
        "outputId": "5f0f4ad4-5d89-4d80-dcc4-5150329cfab1"
      },
      "outputs": [
        {
          "output_type": "stream",
          "name": "stdout",
          "text": [
            "tensor([ 0.0976,  0.1257,  0.1120,  0.0902,  0.0778, -0.9230,  0.1250,  0.0901,\n",
            "         0.1011,  0.1033])\n"
          ]
        }
      ],
      "source": [
        "print(model.bias.grad) # the gradient of the loss with respect to the bias vector"
      ]
    },
    {
      "cell_type": "code",
      "execution_count": 89,
      "id": "e3959d19",
      "metadata": {
        "id": "e3959d19",
        "colab": {
          "base_uri": "https://localhost:8080/"
        },
        "outputId": "0f1296be-d4d4-4cf7-f095-725f869d5a8e"
      },
      "outputs": [
        {
          "output_type": "stream",
          "name": "stdout",
          "text": [
            "tensor([[0., 0., 0.,  ..., 0., 0., 0.],\n",
            "        [0., 0., 0.,  ..., 0., 0., 0.],\n",
            "        [0., 0., 0.,  ..., 0., 0., 0.],\n",
            "        ...,\n",
            "        [0., 0., 0.,  ..., 0., 0., 0.],\n",
            "        [0., 0., 0.,  ..., 0., 0., 0.],\n",
            "        [0., 0., 0.,  ..., 0., 0., 0.]])\n"
          ]
        }
      ],
      "source": [
        "print(model.weight.grad) # the gradient of the loss with respect to the weight matrix"
      ]
    },
    {
      "cell_type": "markdown",
      "id": "d24d7550",
      "metadata": {
        "id": "d24d7550"
      },
      "source": [
        "**Graded Task**: Verify that `model.bias.grad` is correct by computing this gradient explicitly\n",
        "in PyTorch. You may wish to begin by reviewing your past CSC311 notes, or by using calculus to\n",
        "find an expression to represent this quantity."
      ]
    },
    {
      "cell_type": "code",
      "execution_count": 90,
      "id": "04c29760",
      "metadata": {
        "id": "04c29760",
        "colab": {
          "base_uri": "https://localhost:8080/"
        },
        "outputId": "e5cba31d-cfae-4db5-f495-e173b049e052"
      },
      "outputs": [
        {
          "output_type": "stream",
          "name": "stdout",
          "text": [
            "tensor([ 0.0976,  0.1257,  0.1120,  0.0902,  0.0778, -0.9230,  0.1250,  0.0901,\n",
            "         0.1011,  0.1033], grad_fn=<SumBackward1>)\n"
          ]
        }
      ],
      "source": [
        "t_onehot = torch.eye(10)[t] # You may find this useful. (Why? What does this quantity represent)\n",
        "model_bias_grad = (z.softmax(dim=1) - t_onehot).sum(dim=0)     # TODO\n",
        "\n",
        "print(model_bias_grad) # should be the same as model.bias.grad"
      ]
    },
    {
      "cell_type": "markdown",
      "id": "6a323fd4",
      "metadata": {
        "id": "6a323fd4"
      },
      "source": [
        "The gradient computation works in a vectorized setting as well."
      ]
    },
    {
      "cell_type": "code",
      "execution_count": 93,
      "id": "f3891de8",
      "metadata": {
        "id": "f3891de8",
        "colab": {
          "base_uri": "https://localhost:8080/"
        },
        "outputId": "392469e0-ed2e-47e8-8033-42a2c5874c33"
      },
      "outputs": [
        {
          "output_type": "stream",
          "name": "stdout",
          "text": [
            "torch.Size([3, 784])\n",
            "tensor([5, 0, 4])\n"
          ]
        }
      ],
      "source": [
        "# create a data set with 3 inputs, 3 targets\n",
        "\n",
        "x1 = train_data[0][0].reshape(1, 784)\n",
        "x2 = train_data[1][0].reshape(1, 784)\n",
        "x3 = train_data[1][0].reshape(1, 784)\n",
        "X = torch.cat([x1, x2, x3]).reshape(-1, 784)\n",
        "t = torch.Tensor([train_data[0][1], train_data[1][1], train_data[2][1]]).long()\n",
        "\n",
        "print(X.shape)\n",
        "print(t)"
      ]
    },
    {
      "cell_type": "markdown",
      "id": "9be73b31",
      "metadata": {
        "id": "9be73b31"
      },
      "source": [
        "The average loss (mean) across the data points are shown:"
      ]
    },
    {
      "cell_type": "code",
      "execution_count": 94,
      "id": "75c893ae",
      "metadata": {
        "id": "75c893ae",
        "colab": {
          "base_uri": "https://localhost:8080/"
        },
        "outputId": "aafca858-e4b0-471a-c0b8-b85bf7fb1d0e"
      },
      "outputs": [
        {
          "output_type": "stream",
          "name": "stdout",
          "text": [
            "tensor(2.2923, grad_fn=<NllLossBackward0>)\n"
          ]
        }
      ],
      "source": [
        "model = nn.Linear(in_features=784, out_features=10)\n",
        "z = model(X)\n",
        "loss = criterion(z, t)\n",
        "print(loss)\n",
        "\n",
        "loss.backward() # propagate the gradients with respect to the loss"
      ]
    },
    {
      "cell_type": "markdown",
      "id": "12b51dba",
      "metadata": {
        "id": "12b51dba"
      },
      "source": [
        "**Graded Task**: Verify that `model.bias.grad` is correct when using vectorized input\n",
        "by computing this gradient explicitly in PyTorch. Again, we recommend working this out\n",
        "by hand first. After you have done so, you may find the function `torch.sum()` or\n",
        "`torch.mean()` helpful."
      ]
    },
    {
      "cell_type": "code",
      "execution_count": 95,
      "id": "53120c97",
      "metadata": {
        "id": "53120c97",
        "colab": {
          "base_uri": "https://localhost:8080/"
        },
        "outputId": "be089764-27b3-4210-c139-1875770fcea8"
      },
      "outputs": [
        {
          "output_type": "stream",
          "name": "stdout",
          "text": [
            "tensor([-0.2344,  0.1038,  0.1021,  0.1090, -0.2238, -0.2393,  0.1135,  0.0943,\n",
            "         0.0869,  0.0879], grad_fn=<DivBackward0>)\n",
            "tensor([-0.2344,  0.1038,  0.1021,  0.1090, -0.2238, -0.2393,  0.1135,  0.0943,\n",
            "         0.0869,  0.0879])\n"
          ]
        }
      ],
      "source": [
        "t_onehot = torch.eye(10)[t] # TODO: understand the shape of this quantity before using it\n",
        "model_bias_grad = (z.softmax(dim=1) - t_onehot).sum(dim=0)/3      # TODO\n",
        "\n",
        "print(model_bias_grad)\n",
        "print(model.bias.grad) # should be the same as above"
      ]
    },
    {
      "cell_type": "markdown",
      "id": "eaef39cc",
      "metadata": {
        "id": "eaef39cc"
      },
      "source": [
        "## Part 4. Neural Network Training via Stochastic Gradient Descent.\n",
        "\n",
        "We are almost ready to use PyTorch to train the model. One last piece that we need is an\n",
        "optimizer that updates the model parameter based on the gradient. This update can be done\n",
        "in different ways, and the most basic approach discussed in CSC311 was using **gradient descent**.\n",
        "\n",
        "$${\\bf W} \\leftarrow {\\bf W} - \\lambda \\frac{\\partial \\mathcal{L}}{\\partial {\\bf W}}$$\n",
        "\n",
        "When we use the entire training data set to compute the gradient of the mean loss (with respect\n",
        " to each parameter), we call the approach **full batch gradient descent**.\n",
        "However, this approach is expensive if we have a large training set.\n",
        "Typically, we approximate this mean loss using a **minibatch**, or a small sample of the training set.\n",
        "Using gradient descent with this approximate gradient is called **stochastic gradient descent**.\n",
        "\n",
        "PyTorch has built-in classes inside the package `torch.optim` to perform\n",
        "these gradient update steps. We will use the `SGD` class. Initializing this class\n",
        "requires a few things, including the list of model parameters that we want to optimize.\n",
        "For us, the list of parameters to optimize include `model.weight` and `model.bias`, which\n",
        "we can obtain by calling `model.parameters()`."
      ]
    },
    {
      "cell_type": "code",
      "execution_count": 96,
      "id": "a6dce9c6",
      "metadata": {
        "id": "a6dce9c6"
      },
      "outputs": [],
      "source": [
        "import torch.optim as optim\n",
        "\n",
        "optimizer = optim.SGD(model.parameters(), # the parameters to optimize\n",
        "                      lr=0.005)           # the learning rate"
      ]
    },
    {
      "cell_type": "markdown",
      "id": "913c955e",
      "metadata": {
        "id": "913c955e"
      },
      "source": [
        "There are two important optimizer methods that we will use.\n",
        "First is the `optimizer.zero_grad()` method, which clears the `.grad` attribute\n",
        "of the parameters. Let's see how it works:"
      ]
    },
    {
      "cell_type": "code",
      "execution_count": 97,
      "id": "bd11c2c4",
      "metadata": {
        "id": "bd11c2c4",
        "colab": {
          "base_uri": "https://localhost:8080/"
        },
        "outputId": "5e276421-d209-4b0d-d9f7-1050d59c08e5"
      },
      "outputs": [
        {
          "output_type": "stream",
          "name": "stdout",
          "text": [
            "tensor([-0.2344,  0.1038,  0.1021,  0.1090, -0.2238, -0.2393,  0.1135,  0.0943,\n",
            "         0.0869,  0.0879])\n",
            "None\n"
          ]
        }
      ],
      "source": [
        "print(model.bias.grad) # should be a nonzero value from above\n",
        "\n",
        "optimizer.zero_grad()\n",
        "\n",
        "print(model.bias.grad) # should be cleared"
      ]
    },
    {
      "cell_type": "markdown",
      "id": "434ce3b2",
      "metadata": {
        "id": "434ce3b2"
      },
      "source": [
        "The other method is the `step()` method, which performs the actual gradient descent update."
      ]
    },
    {
      "cell_type": "code",
      "execution_count": 98,
      "id": "05055011",
      "metadata": {
        "id": "05055011",
        "colab": {
          "base_uri": "https://localhost:8080/"
        },
        "outputId": "1092990c-8098-4319-a388-ad688b76fce3"
      },
      "outputs": [
        {
          "output_type": "stream",
          "name": "stdout",
          "text": [
            "Parameter containing:\n",
            "tensor([ 0.0248,  0.0276,  0.0056,  0.0132,  0.0210, -0.0010,  0.0330, -0.0320,\n",
            "        -0.0034, -0.0059], requires_grad=True)\n",
            "tensor([-0.2570,  0.1014,  0.0696,  0.1212, -0.2340, -0.2161,  0.1229,  0.0973,\n",
            "         0.0925,  0.1023])\n",
            "tensor([ 0.0261,  0.0271,  0.0052,  0.0126,  0.0222,  0.0001,  0.0324, -0.0325,\n",
            "        -0.0038, -0.0064], grad_fn=<SubBackward0>)\n",
            "Parameter containing:\n",
            "tensor([ 0.0261,  0.0271,  0.0052,  0.0126,  0.0222,  0.0001,  0.0324, -0.0325,\n",
            "        -0.0038, -0.0064], requires_grad=True)\n"
          ]
        }
      ],
      "source": [
        "model = nn.Linear(in_features=784, out_features=10)\n",
        "optimizer = optim.SGD(model.parameters(), lr=0.005)\n",
        "\n",
        "print(model.bias)\n",
        "\n",
        "z = model(X)\n",
        "loss = criterion(z, t)\n",
        "loss.backward()\n",
        "\n",
        "print(model.bias.grad) # gradient\n",
        "print(model.bias - 0.005 * model.bias.grad) # this should be the updated value of model.bias\n",
        "\n",
        "optimizer.step()\n",
        "\n",
        "print(model.bias) # should be different compared to above"
      ]
    },
    {
      "cell_type": "markdown",
      "id": "ad951783",
      "metadata": {
        "id": "ad951783"
      },
      "source": [
        "Now that we have everything in place, we are ready to write the training loop:\n",
        "\n",
        "**Graded Task**: Complete the function below, which trains the model."
      ]
    },
    {
      "cell_type": "code",
      "execution_count": 106,
      "id": "74dd6115",
      "metadata": {
        "id": "74dd6115",
        "colab": {
          "base_uri": "https://localhost:8080/",
          "height": 927
        },
        "outputId": "9ca9bdfa-7619-44fb-a5b5-97cbd145d3ed"
      },
      "outputs": [
        {
          "output_type": "display_data",
          "data": {
            "text/plain": [
              "<Figure size 640x480 with 1 Axes>"
            ],
            "image/png": "[encoded data removed]"
          },
          "metadata": {}
        },
        {
          "output_type": "display_data",
          "data": {
            "text/plain": [
              "<Figure size 640x480 with 1 Axes>"
            ],
            "image/png": "[encoded data removed]"
          },
          "metadata": {}
        }
      ],
      "source": [
        "def train_model(model,\n",
        "                train_data,\n",
        "                val_data,\n",
        "                learning_rate=0.005,\n",
        "                batch_size=100,\n",
        "                num_epochs=10,\n",
        "                plot_every=10):\n",
        "    \"\"\"\n",
        "    Train the PyTorch model `model` using the training data `train_data` and the\n",
        "    corresponding hyperparameters. Report training loss, training accuracy, and\n",
        "    validation accuracy every `plot_every` iterations.\n",
        "    \"\"\"\n",
        "    train_loader = torch.utils.data.DataLoader(train_data,\n",
        "                                               batch_size=batch_size,\n",
        "                                               shuffle=True) # reshuffle minibatches every epoch\n",
        "    criterion = nn.CrossEntropyLoss()\n",
        "    optimizer = optim.SGD(model.parameters(), lr=learning_rate)\n",
        "\n",
        "    # these lists will be used to track the training progress\n",
        "    # and to plot the training curve\n",
        "    iters, train_loss, train_acc, val_acc = [], [], [], []\n",
        "    iter_count = 0 # count the number of iterations that has passed\n",
        "\n",
        "    try:\n",
        "        for e in range(num_epochs):\n",
        "            for i, (images, labels) in enumerate(train_loader):\n",
        "                z = model(images.reshape(-1, 784)) # TODO\n",
        "\n",
        "                loss = criterion(z, labels) # TODO\n",
        "\n",
        "                loss.backward() # propagate the gradients\n",
        "                optimizer.step() # update the parameters\n",
        "                optimizer.zero_grad() # clean up accumualted gradients\n",
        "\n",
        "                iter_count += 1\n",
        "                if iter_count % plot_every == 0:\n",
        "                    iters.append(iter_count)\n",
        "                    train_loss.append(float(loss))\n",
        "                    train_acc.append(accuracy(model, train_data))\n",
        "                    val_acc.append(accuracy(model, val_data))\n",
        "    finally:\n",
        "        # This try/finally block is to display the training curve\n",
        "        # even if training is interrupted\n",
        "        plt.figure()\n",
        "        plt.plot(iters[:len(train_loss)], train_loss)\n",
        "        plt.title(\"Loss over iterations\")\n",
        "        plt.xlabel(\"Iterations\")\n",
        "        plt.ylabel(\"Loss\")\n",
        "\n",
        "        plt.figure()\n",
        "        plt.plot(iters[:len(train_acc)], train_acc)\n",
        "        plt.plot(iters[:len(val_acc)], val_acc)\n",
        "        plt.title(\"Accuracy over iterations\")\n",
        "        plt.xlabel(\"Iterations\")\n",
        "        plt.ylabel(\"Accuracy\")\n",
        "        plt.legend([\"Train\", \"Validation\"])\n",
        "\n",
        "model = nn.Linear(784, 10)\n",
        "train_model(model, train_data, val_data)"
      ]
    },
    {
      "cell_type": "markdown",
      "id": "1adc6acc",
      "metadata": {
        "id": "1adc6acc"
      },
      "source": [
        "## Part 5. Hyperparameter Tuning\n",
        "\n",
        "Our training process is not yet complete.\n",
        "In general, the performance of machine learning models depend heavily on\n",
        "the hyperparameter settings used.\n",
        "Hyperparameters are settings that cannot be tuned via gradient descent in a straightforward way.\n",
        "These settings can affect the model architecture, but may also affect the optimization process.\n",
        "\n",
        "**Graded Task**: What are some examples of hyperparameters that affect the model architecture of a model?\n",
        "You may consider some hyperparameters that you learned about in CSC311. List at least 3 examples."
      ]
    },
    {
      "cell_type": "code",
      "execution_count": null,
      "id": "f2ce4cb4",
      "metadata": {
        "id": "f2ce4cb4"
      },
      "outputs": [],
      "source": [
        "# TODO: Number of layers, number of neurons in each layer, the kernel size."
      ]
    },
    {
      "cell_type": "markdown",
      "id": "a6becdd0",
      "metadata": {
        "id": "a6becdd0"
      },
      "source": [
        "**Task**: What are some examples of hyperparameters that affect the optimization process?"
      ]
    },
    {
      "cell_type": "code",
      "execution_count": null,
      "id": "cde3a024",
      "metadata": {
        "id": "cde3a024"
      },
      "outputs": [],
      "source": [
        "# TODO: The learning rate, and the batch size"
      ]
    },
    {
      "cell_type": "markdown",
      "id": "a2c5bf3e",
      "metadata": {
        "id": "a2c5bf3e"
      },
      "source": [
        "Model architecture related hyperparameters are important to tune and should *not* be neglected in\n",
        "practical application.  However, since we are working with a linear model right now, we are limited\n",
        "in this lab to exploring the optimization hyperparameters.\n",
        "\n",
        "**Task**: What happens if the learning rate is too small?\n",
        "Provide an example training curve by calling `train_model` with a low learning rate,\n",
        "and describe the features of the training curve that you see."
      ]
    },
    {
      "cell_type": "code",
      "execution_count": 107,
      "id": "eb15c24b",
      "metadata": {
        "id": "eb15c24b",
        "colab": {
          "base_uri": "https://localhost:8080/",
          "height": 927
        },
        "outputId": "be09da4b-711a-4f49-9b00-098a7da6a91a"
      },
      "outputs": [
        {
          "output_type": "display_data",
          "data": {
            "text/plain": [
              "<Figure size 640x480 with 1 Axes>"
            ],
            "image/png": "[encoded data removed]"
          },
          "metadata": {}
        },
        {
          "output_type": "display_data",
          "data": {
            "text/plain": [
              "<Figure size 640x480 with 1 Axes>"
            ],
            "image/png": "[encoded data removed]"
          },
          "metadata": {}
        }
      ],
      "source": [
        "# What happens is that it takes much longer for it to converge. the accuracy tanks (falls down) with a much smaller\n",
        "# learning rate.\n",
        "model = nn.Linear(784, 10)\n",
        "train_model(model, train_data, val_data, learning_rate = 0.001)"
      ]
    },
    {
      "cell_type": "markdown",
      "id": "2db58e1e",
      "metadata": {
        "id": "2db58e1e"
      },
      "source": [
        "**Graded Task**: What happens if the learning rate is too large?\n",
        "Provide an example training curve by calling `train_model` with a large learning rate,\n",
        "and describe the features of the training curve that you see."
      ]
    },
    {
      "cell_type": "code",
      "execution_count": 111,
      "id": "ff112095",
      "metadata": {
        "id": "ff112095",
        "colab": {
          "base_uri": "https://localhost:8080/",
          "height": 927
        },
        "outputId": "be53364f-4913-408a-afa8-8cfa8391abcb"
      },
      "outputs": [
        {
          "output_type": "display_data",
          "data": {
            "text/plain": [
              "<Figure size 640x480 with 1 Axes>"
            ],
            "image/png": "[encoded data removed]"
          },
          "metadata": {}
        },
        {
          "output_type": "display_data",
          "data": {
            "text/plain": [
              "<Figure size 640x480 with 1 Axes>"
            ],
            "image/png": "[encoded data removed]"
          },
          "metadata": {}
        }
      ],
      "source": [
        "# It looks like the loss decreases significantly. The loss is much lower, the accuracy is much larger. The accuracy starts off\n",
        "# higher much quicker as well.\n",
        "model = nn.Linear(784, 10)\n",
        "train_model(model, train_data, val_data, learning_rate = 0.1)"
      ]
    },
    {
      "cell_type": "markdown",
      "id": "84d185bd",
      "metadata": {
        "id": "84d185bd"
      },
      "source": [
        "Hyperparameter choices interact with one another.\n",
        "Thus, practitioners use a strategy called **grid search** to try\n",
        "all variations of hyperparameters from a set of hyperparameters.\n",
        "We will not do that here since linear models don't yet have many hyperparameters\n",
        "to work with.\n",
        "\n",
        "**Task**: Choose the best model that you have trained. Typically we make this choice\n",
        "using the validation accuracy. To understand how well the model you choose would\n",
        "generalize to unseen data, we use the *test data*.\n",
        "Compute the test accuracy for this model by calling the function `accuracy()`\n",
        "on the model and the test data."
      ]
    },
    {
      "cell_type": "code",
      "execution_count": 112,
      "id": "ab7f073b",
      "metadata": {
        "id": "ab7f073b",
        "colab": {
          "base_uri": "https://localhost:8080/",
          "height": 945
        },
        "outputId": "e4f0c2ab-0eae-45ac-f88b-45648042d9fa"
      },
      "outputs": [
        {
          "output_type": "execute_result",
          "data": {
            "text/plain": [
              "tensor(0.8700)"
            ]
          },
          "metadata": {},
          "execution_count": 112
        },
        {
          "output_type": "display_data",
          "data": {
            "text/plain": [
              "<Figure size 640x480 with 1 Axes>"
            ],
            "image/png": "[encoded data removed]"
          },
          "metadata": {}
        },
        {
          "output_type": "display_data",
          "data": {
            "text/plain": [
              "<Figure size 640x480 with 1 Axes>"
            ],
            "image/png": "[encoded data removed]"
          },
          "metadata": {}
        }
      ],
      "source": [
        "# TODO: Compute the test accuracy\n",
        "model = nn.Linear(784, 10)\n",
        "train_model(model, train_data, val_data, learning_rate = 0.1)\n",
        "accuracy(model, test_data)"
      ]
    }
  ],
  "metadata": {
    "kernelspec": {
      "display_name": "Python 3 (ipykernel)",
      "language": "python",
      "name": "python3"
    },
    "language_info": {
      "codemirror_mode": {
        "name": "ipython",
        "version": 3
      },
      "file_extension": ".py",
      "mimetype": "text/x-python",
      "name": "python",
      "nbconvert_exporter": "python",
      "pygments_lexer": "ipython3",
      "version": "3.11.6"
    },
    "colab": {
      "provenance": [],
      "toc_visible": true
    }
  },
  "nbformat": 4,
  "nbformat_minor": 5
}